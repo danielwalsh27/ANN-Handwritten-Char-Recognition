{
 "cells": [
  {
   "cell_type": "code",
   "execution_count": 21,
   "metadata": {},
   "outputs": [],
   "source": [
    "import tensorflow as tf\n",
    "from tensorflow import keras\n",
    "import numpy as np\n",
    "import sklearn as sk\n",
    "import pandas as pd\n",
    "import matplotlib.pyplot as plt\n",
    "from os.path import dirname, join as pjoin\n",
    "from scipy import io as sio"
   ]
  },
  {
   "cell_type": "code",
   "execution_count": 22,
   "metadata": {},
   "outputs": [],
   "source": [
    "from tensorflow.keras import layers\n",
    "from tensorflow.keras import models\n",
    "from tensorflow.keras import datasets\n",
    "from tensorflow.keras import optimizers"
   ]
  },
  {
   "cell_type": "markdown",
   "metadata": {},
   "source": [
    "### Warm up"
   ]
  },
  {
   "cell_type": "code",
   "execution_count": 45,
   "metadata": {},
   "outputs": [],
   "source": [
    "batch_size = 128\n",
    "num_classes = 10\n",
    "epochs = 20\n",
    "\n",
    "# load data, split between train and test sets\n",
    "(x_train, y_train), (x_test, y_test) = datasets.mnist.load_data()"
   ]
  },
  {
   "cell_type": "code",
   "execution_count": 46,
   "metadata": {},
   "outputs": [
    {
     "name": "stdout",
     "output_type": "stream",
     "text": [
      "60000 train samples\n",
      "10000 test samples\n"
     ]
    }
   ],
   "source": [
    "x_train = x_train.reshape(60000, 784)\n",
    "x_test = x_test.reshape(10000, 784)\n",
    "x_train = x_train.astype('float32')\n",
    "x_test = x_test.astype('float32')\n",
    "x_train /= 255\n",
    "x_test /= 255\n",
    "print(x_train.shape[0], 'train samples')\n",
    "print(x_test.shape[0], 'test samples')"
   ]
  },
  {
   "cell_type": "code",
   "execution_count": 47,
   "metadata": {},
   "outputs": [],
   "source": [
    "#convert class vectors to binary class matrices\n",
    "y_train = keras.utils.to_categorical(y_train, num_classes)\n",
    "y_test = keras.utils.to_categorical(y_test, num_classes)\n",
    "#print(y_train[0])"
   ]
  },
  {
   "cell_type": "code",
   "execution_count": 53,
   "metadata": {},
   "outputs": [
    {
     "name": "stdout",
     "output_type": "stream",
     "text": [
      "Model: \"sequential_8\"\n",
      "_________________________________________________________________\n",
      "Layer (type)                 Output Shape              Param #   \n",
      "=================================================================\n",
      "dense_7 (Dense)              (None, 512)               401920    \n",
      "_________________________________________________________________\n",
      "dropout_5 (Dropout)          (None, 512)               0         \n",
      "_________________________________________________________________\n",
      "dense_8 (Dense)              (None, 512)               262656    \n",
      "_________________________________________________________________\n",
      "dropout_6 (Dropout)          (None, 512)               0         \n",
      "_________________________________________________________________\n",
      "dense_9 (Dense)              (None, 10)                5130      \n",
      "=================================================================\n",
      "Total params: 669,706\n",
      "Trainable params: 669,706\n",
      "Non-trainable params: 0\n",
      "_________________________________________________________________\n"
     ]
    }
   ],
   "source": [
    "model = tf.keras.Sequential()\n",
    "model.add(layers.Dense(512, activation='relu', input_shape=(784,)))\n",
    "model.add(layers.Dropout(0.2))\n",
    "model.add(layers.Dense(512, activation='relu'))\n",
    "model.add(layers.Dropout(0.2))\n",
    "model.add(layers.Dense(num_classes, activation='softmax'))\n",
    "\n",
    "model.summary()"
   ]
  },
  {
   "cell_type": "code",
   "execution_count": 56,
   "metadata": {},
   "outputs": [
    {
     "name": "stdout",
     "output_type": "stream",
     "text": [
      "Train on 60000 samples, validate on 10000 samples\n",
      "Epoch 1/20\n",
      "60000/60000 [==============================] - 11s 178us/sample - loss: 0.2438 - accuracy: 0.9242 - val_loss: 0.1202 - val_accuracy: 0.9626\n",
      "Epoch 2/20\n",
      "60000/60000 [==============================] - 9s 152us/sample - loss: 0.1021 - accuracy: 0.9693 - val_loss: 0.0899 - val_accuracy: 0.9731\n",
      "Epoch 3/20\n",
      "60000/60000 [==============================] - 9s 152us/sample - loss: 0.0749 - accuracy: 0.9769 - val_loss: 0.0768 - val_accuracy: 0.9782\n",
      "Epoch 4/20\n",
      "60000/60000 [==============================] - 9s 153us/sample - loss: 0.0584 - accuracy: 0.9824 - val_loss: 0.0668 - val_accuracy: 0.9822\n",
      "Epoch 5/20\n",
      "60000/60000 [==============================] - 9s 153us/sample - loss: 0.0511 - accuracy: 0.9838 - val_loss: 0.0942 - val_accuracy: 0.9744\n",
      "Epoch 6/20\n",
      "60000/60000 [==============================] - 9s 153us/sample - loss: 0.0436 - accuracy: 0.9868 - val_loss: 0.0826 - val_accuracy: 0.9795\n",
      "Epoch 7/20\n",
      "60000/60000 [==============================] - 9s 153us/sample - loss: 0.0375 - accuracy: 0.9892 - val_loss: 0.0825 - val_accuracy: 0.9825\n",
      "Epoch 8/20\n",
      "60000/60000 [==============================] - 9s 156us/sample - loss: 0.0355 - accuracy: 0.9894 - val_loss: 0.0973 - val_accuracy: 0.9804\n",
      "Epoch 9/20\n",
      "60000/60000 [==============================] - 9s 154us/sample - loss: 0.0314 - accuracy: 0.9908 - val_loss: 0.0906 - val_accuracy: 0.9803\n",
      "Epoch 10/20\n",
      "60000/60000 [==============================] - 9s 153us/sample - loss: 0.0275 - accuracy: 0.9917 - val_loss: 0.0940 - val_accuracy: 0.9831\n",
      "Epoch 11/20\n",
      "60000/60000 [==============================] - 9s 154us/sample - loss: 0.0275 - accuracy: 0.9923 - val_loss: 0.0968 - val_accuracy: 0.9829\n",
      "Epoch 12/20\n",
      "60000/60000 [==============================] - 9s 154us/sample - loss: 0.0243 - accuracy: 0.9931 - val_loss: 0.1148 - val_accuracy: 0.9807\n",
      "Epoch 13/20\n",
      "60000/60000 [==============================] - 9s 155us/sample - loss: 0.0251 - accuracy: 0.9928 - val_loss: 0.1136 - val_accuracy: 0.9817\n",
      "Epoch 14/20\n",
      "60000/60000 [==============================] - 9s 154us/sample - loss: 0.0223 - accuracy: 0.9941 - val_loss: 0.1119 - val_accuracy: 0.9834\n",
      "Epoch 15/20\n",
      "60000/60000 [==============================] - 9s 155us/sample - loss: 0.0229 - accuracy: 0.9939 - val_loss: 0.0984 - val_accuracy: 0.9847\n",
      "Epoch 16/20\n",
      "60000/60000 [==============================] - 9s 156us/sample - loss: 0.0214 - accuracy: 0.9941 - val_loss: 0.1087 - val_accuracy: 0.9842\n",
      "Epoch 17/20\n",
      "60000/60000 [==============================] - 9s 155us/sample - loss: 0.0192 - accuracy: 0.9949 - val_loss: 0.1373 - val_accuracy: 0.9815\n",
      "Epoch 18/20\n",
      "60000/60000 [==============================] - 9s 156us/sample - loss: 0.0177 - accuracy: 0.9955 - val_loss: 0.1374 - val_accuracy: 0.9821\n",
      "Epoch 19/20\n",
      "60000/60000 [==============================] - 9s 156us/sample - loss: 0.0173 - accuracy: 0.9952 - val_loss: 0.1273 - val_accuracy: 0.9836\n",
      "Epoch 20/20\n",
      "60000/60000 [==============================] - 9s 156us/sample - loss: 0.0183 - accuracy: 0.9951 - val_loss: 0.1226 - val_accuracy: 0.9839\n"
     ]
    }
   ],
   "source": [
    "model.compile(loss='categorical_crossentropy',\n",
    "             optimizer=optimizers.RMSprop(),\n",
    "             metrics=['accuracy'])\n",
    "\n",
    "history = model.fit(x_train, y_train,\n",
    "                    batch_size = batch_size,\n",
    "                    epochs = epochs,\n",
    "                    verbose = 1,\n",
    "                    validation_data = (x_test, y_test))"
   ]
  },
  {
   "cell_type": "code",
   "execution_count": 57,
   "metadata": {},
   "outputs": [
    {
     "name": "stdout",
     "output_type": "stream",
     "text": [
      "Test loss: 0.12259821599699935\n",
      "Test accuracy: 0.9839\n"
     ]
    }
   ],
   "source": [
    "score = model.evaluate(x_test, y_test, verbose=0)\n",
    "print('Test loss:', score[0])\n",
    "print('Test accuracy:', score[1])"
   ]
  },
  {
   "cell_type": "markdown",
   "metadata": {},
   "source": [
    "### The Real Stuff"
   ]
  },
  {
   "cell_type": "code",
   "execution_count": 43,
   "metadata": {},
   "outputs": [
    {
     "name": "stdout",
     "output_type": "stream",
     "text": [
      "104000 training samples\n",
      "20800 validation samples\n",
      "20800 test samples\n",
      "(20800, 784) (20800, 28)\n"
     ]
    }
   ],
   "source": [
    "mat_contents = sio.loadmat('matlab/emnist-letters.mat')\n",
    "data = mat_contents['dataset']\n",
    "\n",
    "X_train = data['train'][0,0]['images'][0,0]\n",
    "y_train = data['train'][0,0]['labels'][0,0]\n",
    "X_test = data['test'][0,0]['images'][0,0]\n",
    "y_test = data['test'][0,0]['labels'][0,0]\n",
    "\n",
    "val_start = X_train.shape[0] - X_test.shape[0]\n",
    "X_val = X_train[val_start:X_train.shape[0],:]\n",
    "y_val = y_train[val_start:X_train.shape[0]]\n",
    "X_train = X_train[0:val_start,:]\n",
    "y_train = y_train[0:val_start]\n",
    "\n",
    "#X_train = X_train.reshape( (X_train.shape[0], 28, 28), order='F')\n",
    "\n",
    "#convert class vectors to binary class matrices\n",
    "y_train = keras.utils.to_categorical(y_train, num_classes)\n",
    "y_val = keras.utils.to_categorical(y_val, num_classes)\n",
    "y_test = keras.utils.to_categorical(y_test, num_classes)\n",
    "\n",
    "print(X_train.shape[0], \"training samples\")\n",
    "print(X_val.shape[0], \"validation samples\")\n",
    "print(X_test.shape[0], \"test samples\")\n",
    "print(X_val.shape, y_val.shape)"
   ]
  },
  {
   "cell_type": "code",
   "execution_count": 44,
   "metadata": {},
   "outputs": [
    {
     "name": "stdout",
     "output_type": "stream",
     "text": [
      "Model: \"sequential_8\"\n",
      "_________________________________________________________________\n",
      "Layer (type)                 Output Shape              Param #   \n",
      "=================================================================\n",
      "dense_20 (Dense)             (None, 512)               401920    \n",
      "_________________________________________________________________\n",
      "dropout_14 (Dropout)         (None, 512)               0         \n",
      "_________________________________________________________________\n",
      "dense_21 (Dense)             (None, 512)               262656    \n",
      "_________________________________________________________________\n",
      "dropout_15 (Dropout)         (None, 512)               0         \n",
      "_________________________________________________________________\n",
      "dense_22 (Dense)             (None, 28)                14364     \n",
      "=================================================================\n",
      "Total params: 678,940\n",
      "Trainable params: 678,940\n",
      "Non-trainable params: 0\n",
      "_________________________________________________________________\n"
     ]
    }
   ],
   "source": [
    "batch_size = 128\n",
    "num_classes = 28\n",
    "epochs = 20\n",
    "\n",
    "model = tf.keras.Sequential()\n",
    "model.add(layers.Dense(512, activation='relu', input_shape=(784,)))\n",
    "model.add(layers.Dropout(0.2))\n",
    "model.add(layers.Dense(512, activation='relu'))\n",
    "model.add(layers.Dropout(0.2))\n",
    "model.add(layers.Dense(num_classes, activation='softmax'))\n",
    "\n",
    "model.summary()"
   ]
  },
  {
   "cell_type": "code",
   "execution_count": 39,
   "metadata": {},
   "outputs": [
    {
     "name": "stdout",
     "output_type": "stream",
     "text": [
      "Train on 104000 samples, validate on 20800 samples\n",
      "Epoch 1/20\n",
      "104000/104000 [==============================] - 18s 171us/sample - loss: 4.3348 - accuracy: 0.5188 - val_loss: 1.1506 - val_accuracy: 0.7055\n",
      "Epoch 2/20\n",
      "104000/104000 [==============================] - 16s 157us/sample - loss: 1.2424 - accuracy: 0.6906 - val_loss: 0.7751 - val_accuracy: 0.7811\n",
      "Epoch 3/20\n",
      "104000/104000 [==============================] - 17s 163us/sample - loss: 1.0392 - accuracy: 0.7342 - val_loss: 0.7665 - val_accuracy: 0.7825\n",
      "Epoch 4/20\n",
      "104000/104000 [==============================] - 18s 168us/sample - loss: 1.0302 - accuracy: 0.7428 - val_loss: 0.7294 - val_accuracy: 0.7960\n",
      "Epoch 5/20\n",
      "104000/104000 [==============================] - 18s 169us/sample - loss: 1.0534 - accuracy: 0.7417 - val_loss: 0.7806 - val_accuracy: 0.7928\n",
      "Epoch 6/20\n",
      "104000/104000 [==============================] - 17s 163us/sample - loss: 1.0970 - accuracy: 0.7386 - val_loss: 0.7860 - val_accuracy: 0.8065\n",
      "Epoch 7/20\n",
      "104000/104000 [==============================] - 17s 165us/sample - loss: 1.1266 - accuracy: 0.7333 - val_loss: 0.8168 - val_accuracy: 0.7919\n",
      "Epoch 8/20\n",
      "104000/104000 [==============================] - 17s 165us/sample - loss: 1.1822 - accuracy: 0.7250 - val_loss: 0.9408 - val_accuracy: 0.7845\n",
      "Epoch 9/20\n",
      "104000/104000 [==============================] - 17s 164us/sample - loss: 1.2677 - accuracy: 0.7110 - val_loss: 0.9487 - val_accuracy: 0.8003\n",
      "Epoch 10/20\n",
      "104000/104000 [==============================] - 17s 165us/sample - loss: 1.3392 - accuracy: 0.6944 - val_loss: 1.0445 - val_accuracy: 0.7550\n",
      "Epoch 11/20\n",
      "104000/104000 [==============================] - 17s 166us/sample - loss: 1.4022 - accuracy: 0.6830 - val_loss: 1.3799 - val_accuracy: 0.7426\n",
      "Epoch 12/20\n",
      "104000/104000 [==============================] - 17s 167us/sample - loss: 1.5230 - accuracy: 0.6558 - val_loss: 1.1750 - val_accuracy: 0.7387\n",
      "Epoch 13/20\n",
      "104000/104000 [==============================] - 17s 165us/sample - loss: 1.5820 - accuracy: 0.6420 - val_loss: 1.3071 - val_accuracy: 0.7235\n",
      "Epoch 14/20\n",
      "104000/104000 [==============================] - 17s 167us/sample - loss: 1.6549 - accuracy: 0.6274 - val_loss: 1.2368 - val_accuracy: 0.7328\n",
      "Epoch 15/20\n",
      "104000/104000 [==============================] - 17s 166us/sample - loss: 1.7162 - accuracy: 0.6096 - val_loss: 1.4528 - val_accuracy: 0.6669\n",
      "Epoch 16/20\n",
      "104000/104000 [==============================] - 17s 166us/sample - loss: 1.8707 - accuracy: 0.5865 - val_loss: 1.4596 - val_accuracy: 0.6750\n",
      "Epoch 17/20\n",
      "104000/104000 [==============================] - 17s 167us/sample - loss: 1.9779 - accuracy: 0.5585 - val_loss: 1.7707 - val_accuracy: 0.5737\n",
      "Epoch 18/20\n",
      "104000/104000 [==============================] - 17s 167us/sample - loss: 2.0943 - accuracy: 0.5304 - val_loss: 1.6713 - val_accuracy: 0.6039\n",
      "Epoch 19/20\n",
      "104000/104000 [==============================] - 17s 167us/sample - loss: 2.1852 - accuracy: 0.5137 - val_loss: 1.8158 - val_accuracy: 0.5574\n",
      "Epoch 20/20\n",
      "104000/104000 [==============================] - 17s 165us/sample - loss: 2.3372 - accuracy: 0.4764 - val_loss: 1.9612 - val_accuracy: 0.5646\n"
     ]
    }
   ],
   "source": [
    "model.compile(loss='categorical_crossentropy',\n",
    "              optimizer=optimizers.RMSprop(),\n",
    "              metrics=['accuracy'])\n",
    "\n",
    "history = model.fit(X_train, y_train,\n",
    "                    batch_size = batch_size,\n",
    "                    epochs = epochs,\n",
    "                    verbose = 1,\n",
    "                    validation_data = (X_val, y_val))"
   ]
  },
  {
   "cell_type": "code",
   "execution_count": 41,
   "metadata": {},
   "outputs": [
    {
     "name": "stdout",
     "output_type": "stream",
     "text": [
      "Test loss: 2.028358687815758\n",
      "Test accuracy: 0.5630769\n"
     ]
    }
   ],
   "source": [
    "score = model.evaluate(X_test, y_test, verbose=0)\n",
    "print('Test loss:', score[0])\n",
    "print('Test accuracy:', score[1])"
   ]
  },
  {
   "cell_type": "code",
   "execution_count": null,
   "metadata": {},
   "outputs": [],
   "source": []
  }
 ],
 "metadata": {
  "kernelspec": {
   "display_name": "Python 3",
   "language": "python",
   "name": "python3"
  },
  "language_info": {
   "codemirror_mode": {
    "name": "ipython",
    "version": 3
   },
   "file_extension": ".py",
   "mimetype": "text/x-python",
   "name": "python",
   "nbconvert_exporter": "python",
   "pygments_lexer": "ipython3",
   "version": "3.7.6"
  }
 },
 "nbformat": 4,
 "nbformat_minor": 4
}
